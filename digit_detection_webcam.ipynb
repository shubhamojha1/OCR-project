{
  "nbformat": 4,
  "nbformat_minor": 0,
  "metadata": {
    "colab": {
      "name": "digit-detection-webcam.ipynb",
      "provenance": [],
      "authorship_tag": "ABX9TyMq6CopjeLdQSZSo8qDDOPT",
      "include_colab_link": true
    },
    "kernelspec": {
      "name": "python3",
      "display_name": "Python 3"
    },
    "language_info": {
      "name": "python"
    }
  },
  "cells": [
    {
      "cell_type": "markdown",
      "metadata": {
        "id": "view-in-github",
        "colab_type": "text"
      },
      "source": [
        "<a href=\"https://colab.research.google.com/github/shubhamojha1/OCR-project/blob/main/digit_detection_webcam.ipynb\" target=\"_parent\"><img src=\"https://colab.research.google.com/assets/colab-badge.svg\" alt=\"Open In Colab\"/></a>"
      ]
    },
    {
      "cell_type": "code",
      "execution_count": 2,
      "metadata": {
        "id": "26HN7RyrUgmn"
      },
      "outputs": [],
      "source": [
        "import numpy as np\n",
        "import cv2\n",
        "import tensorflow as tf\n",
        "from tensorflow import keras\n",
        "from tensorflow.keras import layers\n",
        "from keras.models import Sequential\n",
        "# from keras.layers.convolutional import Conv2D\n",
        "from tensorflow.keras.layers import Conv2D, MaxPooling2D\n",
        "from keras.layers import Activation, Dense, Flatten, Dropout"
      ]
    },
    {
      "cell_type": "code",
      "source": [
        "mnist = tf.keras.datasets.mnist\n",
        "\n",
        "(x_train, y_train), (x_test, y_test) = mnist.load_data()\n",
        "x_train, x_test = x_train / 255.0, x_test / 255.0\n",
        "\n",
        "# Add a channels dimension\n",
        "x_train = x_train[..., tf.newaxis].astype(\"float32\")\n",
        "x_test = x_test[..., tf.newaxis].astype(\"float32\")\n"
      ],
      "metadata": {
        "colab": {
          "base_uri": "https://localhost:8080/"
        },
        "id": "gA9bHRjklvzB",
        "outputId": "794853e8-9bd4-4106-9da9-9a9c96830d4d"
      },
      "execution_count": 3,
      "outputs": [
        {
          "output_type": "stream",
          "name": "stdout",
          "text": [
            "Downloading data from https://storage.googleapis.com/tensorflow/tf-keras-datasets/mnist.npz\n",
            "11493376/11490434 [==============================] - 0s 0us/step\n",
            "11501568/11490434 [==============================] - 0s 0us/step\n"
          ]
        }
      ]
    },
    {
      "cell_type": "code",
      "source": [
        "from sklearn.model_selection import train_test_split"
      ],
      "metadata": {
        "id": "K5GUAJJ6mjQO"
      },
      "execution_count": 6,
      "outputs": []
    },
    {
      "cell_type": "code",
      "source": [
        "x_train.shape, x_test.shape"
      ],
      "metadata": {
        "colab": {
          "base_uri": "https://localhost:8080/"
        },
        "id": "saYqT-xCmSmC",
        "outputId": "600b3479-03ec-449f-fcc6-2c76db858183"
      },
      "execution_count": 5,
      "outputs": [
        {
          "output_type": "execute_result",
          "data": {
            "text/plain": [
              "((60000, 28, 28, 1), (10000, 28, 28, 1))"
            ]
          },
          "metadata": {},
          "execution_count": 5
        }
      ]
    },
    {
      "cell_type": "code",
      "source": [
        "x_train, x_validation, y_train, y_validation = train_test_split(x_train, y_train,test_size=0.2)"
      ],
      "metadata": {
        "id": "P21p9IGjmUnn"
      },
      "execution_count": 7,
      "outputs": []
    },
    {
      "cell_type": "code",
      "source": [
        "x_validation.shape, y_validation.shape"
      ],
      "metadata": {
        "colab": {
          "base_uri": "https://localhost:8080/"
        },
        "id": "Ql2JTQ4nnOyv",
        "outputId": "02e5ad5e-64ed-433e-ead6-f25bd406f2e3"
      },
      "execution_count": 8,
      "outputs": [
        {
          "output_type": "execute_result",
          "data": {
            "text/plain": [
              "((12000, 28, 28, 1), (12000,))"
            ]
          },
          "metadata": {},
          "execution_count": 8
        }
      ]
    },
    {
      "cell_type": "code",
      "source": [
        "x_train.shape, x_test.shape"
      ],
      "metadata": {
        "colab": {
          "base_uri": "https://localhost:8080/"
        },
        "id": "-xhS5yganRwd",
        "outputId": "acbf78f8-819e-46e2-e02d-2a4aade20fdd"
      },
      "execution_count": 9,
      "outputs": [
        {
          "output_type": "execute_result",
          "data": {
            "text/plain": [
              "((48000, 28, 28, 1), (10000, 28, 28, 1))"
            ]
          },
          "metadata": {},
          "execution_count": 9
        }
      ]
    },
    {
      "cell_type": "markdown",
      "source": [
        "## Plotting a bar graph to show distribution of data"
      ],
      "metadata": {
        "id": "o_EAPPtpnpI7"
      }
    },
    {
      "cell_type": "code",
      "source": [
        "# len(np.where(y_train==0)[0])\n",
        "sum = 0\n",
        "numOfSamples = []\n",
        "for x in range(10):\n",
        "  # print(x,\"-\",len(np.where(y_train==x)[0]))\n",
        "  numOfSamples.append(len(np.where(y_train==x)[0]))\n",
        "print(numOfSamples)"
      ],
      "metadata": {
        "colab": {
          "base_uri": "https://localhost:8080/"
        },
        "id": "egNIJcxQnTNK",
        "outputId": "bda70a87-8cd1-436f-a668-4e2f8c6cbde8"
      },
      "execution_count": 17,
      "outputs": [
        {
          "output_type": "stream",
          "name": "stdout",
          "text": [
            "[4721, 5373, 4782, 4897, 4647, 4370, 4742, 5021, 4690, 4757]\n"
          ]
        }
      ]
    },
    {
      "cell_type": "code",
      "source": [
        "import matplotlib.pyplot as plt\n",
        "%matplotlib inline\n",
        "plt.figure(figsize=(10,5))\n",
        "plt.bar(range(0,10), numOfSamples)\n",
        "plt.title(\"No of images for each class\")\n",
        "plt.xlabel(\"Class ID\")\n",
        "plt.ylabel(\"No. of Images\")\n",
        "plt.show()"
      ],
      "metadata": {
        "colab": {
          "base_uri": "https://localhost:8080/",
          "height": 350
        },
        "id": "hsjqlHWWneYy",
        "outputId": "1fafb8a1-e4a8-416a-c5f3-247299d4ab16"
      },
      "execution_count": 19,
      "outputs": [
        {
          "output_type": "display_data",
          "data": {
            "text/plain": [
              "<Figure size 720x360 with 1 Axes>"
            ],
            "image/png": "[encoded data removed]"
          },
          "metadata": {
            "needs_background": "light"
          }
        }
      ]
    },
    {
      "cell_type": "markdown",
      "source": [
        "## Preprocessing \n",
        "augmenting, zoom, rotation, translation\n",
        "to make data more generic and better at predictions"
      ],
      "metadata": {
        "id": "Ew3p7GW1pIVm"
      }
    },
    {
      "cell_type": "code",
      "source": [
        "# def preProcessing(img):\n",
        "#   img = cv2.cvtColor(img, cv2.COLOR_BGR2GRAY)\n",
        "#   img = cv2.equalizeHist(img)\n",
        "#   img = img/255\n",
        "#   return img"
      ],
      "metadata": {
        "id": "-iPLhnA5pKHi"
      },
      "execution_count": 25,
      "outputs": []
    },
    {
      "cell_type": "code",
      "source": [
        "\n",
        "# img = preProcessing(x_train[30])\n",
        "# img = cv2.resize(img, (300, 300))\n",
        "# cv2_imshow(img)"
      ],
      "metadata": {
        "id": "m_NlTfuYpfZt"
      },
      "execution_count": null,
      "outputs": []
    },
    {
      "cell_type": "code",
      "source": [
        "from google.colab.patches import cv2_imshow\n",
        "!curl -o logo.png https://colab.research.google.com/img/colab_favicon_256px.png\n",
        "import cv2\n",
        "img = cv2.imread('logo.png', cv2.IMREAD_UNCHANGED)\n",
        "cv2_imshow(img)"
      ],
      "metadata": {
        "colab": {
          "base_uri": "https://localhost:8080/",
          "height": 329
        },
        "id": "Wd7AXq8npocq",
        "outputId": "d9894dd2-4678-46ac-82be-372bfa0bb2a2"
      },
      "execution_count": 27,
      "outputs": [
        {
          "output_type": "stream",
          "name": "stdout",
          "text": [
            "  % Total    % Received % Xferd  Average Speed   Time    Time     Time  Current\n",
            "                                 Dload  Upload   Total   Spent    Left  Speed\n",
            "\r  0     0    0     0    0     0      0      0 --:--:-- --:--:-- --:--:--     0\r100  4534  100  4534    0     0  90680      0 --:--:-- --:--:-- --:--:-- 90680\n"
          ]
        },
        {
          "output_type": "display_data",
          "data": {
            "text/plain": [
              "<PIL.Image.Image image mode=RGBA size=260x260 at 0x7F27BF1C2410>"
            ],
            "image/png": "[encoded data removed]"
          },
          "metadata": {}
        }
      ]
    },
    {
      "cell_type": "code",
      "source": [
        "from keras.preprocessing.image import ImageDataGenerator\n",
        "from keras.utils.np_utils import to_categorical\n",
        "dataGen = ImageDataGenerator(width_shift_range=0.1,\n",
        "                             height_shift_range=0.1,\n",
        "                             zoom_range=0.2,\n",
        "                             shear_range=0.1,\n",
        "                             rotation_range=10)\n",
        "dataGen.fit(x_train)\n",
        "# One hot encoding time\n",
        "y_train = to_categorical(y_train, 10)\n",
        "y_validation = to_categorical(y_validation, 10)\n",
        "y_test = to_categorical(y_test, 10)"
      ],
      "metadata": {
        "id": "Oz3Vuy89pwlc"
      },
      "execution_count": 32,
      "outputs": []
    },
    {
      "cell_type": "code",
      "source": [
        "def myModel():\n",
        "  noOfFilters = 60\n",
        "  sizeOfFilter1 = (5,5)\n",
        "  sizeOfFilter2 = (3,3)\n",
        "  sizeOfPool = (2,2)\n",
        "  noOfNodes = 500\n",
        "\n",
        "  model = Sequential()\n",
        "  model.add((Conv2D(noOfFilters,\n",
        "                    sizeOfFilter1,\n",
        "                    input_shape = (28,28,1),\n",
        "                    activation = 'relu')))\n",
        "  model.add((Conv2D(noOfFilters,\n",
        "                    sizeOfFilter1,\n",
        "                    activation = 'relu')))\n",
        "  model.add(MaxPooling2D(pool_size=sizeOfPool))\n",
        "  model.add((Conv2D(noOfFilters//2,\n",
        "                    sizeOfFilter2,\n",
        "                    activation = 'relu')))\n",
        "  model.add((Conv2D(noOfFilters//2,\n",
        "                    sizeOfFilter2,\n",
        "                    activation = 'relu')))\n",
        "  model.add(MaxPooling2D(pool_size=sizeOfPool))\n",
        "\n",
        "  model.add(Dropout(0.5))\n",
        "\n",
        "  model.add(Flatten())\n",
        "\n",
        "  model.add(Dense(noOfNodes, activation='relu'))\n",
        "  model.add(Dropout(0.5))\n",
        "\n",
        "  model.add(Dense(10, activation='softmax'))\n",
        "\n",
        "  opt = keras.optimizers.Adam(learning_rate=0.001)\n",
        "  model.compile(optimizer=opt, loss='categorical_crossentropy', metrics=['accuracy'])\n",
        "  \n",
        "  return model"
      ],
      "metadata": {
        "id": "sJ9NsPKatBdJ"
      },
      "execution_count": 35,
      "outputs": []
    },
    {
      "cell_type": "code",
      "source": [
        "model = myModel()"
      ],
      "metadata": {
        "id": "3m_LR_x_uiyr"
      },
      "execution_count": 36,
      "outputs": []
    },
    {
      "cell_type": "code",
      "source": [
        "model.summary()"
      ],
      "metadata": {
        "colab": {
          "base_uri": "https://localhost:8080/"
        },
        "id": "WXnKgNVYulO2",
        "outputId": "c220f0e8-b4ed-42bd-919c-52f86ea0a5d3"
      },
      "execution_count": 37,
      "outputs": [
        {
          "output_type": "stream",
          "name": "stdout",
          "text": [
            "Model: \"sequential_1\"\n",
            "_________________________________________________________________\n",
            " Layer (type)                Output Shape              Param #   \n",
            "=================================================================\n",
            " conv2d_4 (Conv2D)           (None, 24, 24, 60)        1560      \n",
            "                                                                 \n",
            " conv2d_5 (Conv2D)           (None, 20, 20, 60)        90060     \n",
            "                                                                 \n",
            " max_pooling2d_2 (MaxPooling  (None, 10, 10, 60)       0         \n",
            " 2D)                                                             \n",
            "                                                                 \n",
            " conv2d_6 (Conv2D)           (None, 8, 8, 30)          16230     \n",
            "                                                                 \n",
            " conv2d_7 (Conv2D)           (None, 6, 6, 30)          8130      \n",
            "                                                                 \n",
            " max_pooling2d_3 (MaxPooling  (None, 3, 3, 30)         0         \n",
            " 2D)                                                             \n",
            "                                                                 \n",
            " dropout_1 (Dropout)         (None, 3, 3, 30)          0         \n",
            "                                                                 \n",
            " flatten_1 (Flatten)         (None, 270)               0         \n",
            "                                                                 \n",
            " dense_2 (Dense)             (None, 500)               135500    \n",
            "                                                                 \n",
            " dropout_2 (Dropout)         (None, 500)               0         \n",
            "                                                                 \n",
            " dense_3 (Dense)             (None, 10)                5010      \n",
            "                                                                 \n",
            "=================================================================\n",
            "Total params: 256,490\n",
            "Trainable params: 256,490\n",
            "Non-trainable params: 0\n",
            "_________________________________________________________________\n"
          ]
        }
      ]
    },
    {
      "cell_type": "code",
      "source": [
        "batch_size = 50\n",
        "epochs = 10\n",
        "steps_per_epoch = 800\n",
        "\n",
        "history = model.fit_generator(dataGen.flow(x_train, y_train, batch_size=batch_size),\n",
        "                    steps_per_epoch=steps_per_epoch,\n",
        "                    epochs=epochs,\n",
        "                    validation_data=(x_validation, y_validation),\n",
        "                    shuffle=True)"
      ],
      "metadata": {
        "colab": {
          "base_uri": "https://localhost:8080/"
        },
        "id": "R_nblhd7u3pL",
        "outputId": "58092926-bb1b-45f2-e594-aa3d65252626"
      },
      "execution_count": 42,
      "outputs": [
        {
          "output_type": "stream",
          "name": "stdout",
          "text": [
            "Epoch 1/10\n"
          ]
        },
        {
          "output_type": "stream",
          "name": "stderr",
          "text": [
            "/usr/local/lib/python3.7/dist-packages/ipykernel_launcher.py:9: UserWarning: `Model.fit_generator` is deprecated and will be removed in a future version. Please use `Model.fit`, which supports generators.\n",
            "  if __name__ == '__main__':\n"
          ]
        },
        {
          "output_type": "stream",
          "name": "stdout",
          "text": [
            "800/800 [==============================] - 304s 381ms/step - loss: 0.1979 - accuracy: 0.9400 - val_loss: 0.0604 - val_accuracy: 0.9818\n",
            "Epoch 2/10\n",
            "800/800 [==============================] - 300s 375ms/step - loss: 0.1530 - accuracy: 0.9552 - val_loss: 0.0475 - val_accuracy: 0.9863\n",
            "Epoch 3/10\n",
            "800/800 [==============================] - 302s 377ms/step - loss: 0.1284 - accuracy: 0.9614 - val_loss: 0.0469 - val_accuracy: 0.9868\n",
            "Epoch 4/10\n",
            "800/800 [==============================] - 307s 384ms/step - loss: 0.1144 - accuracy: 0.9656 - val_loss: 0.0413 - val_accuracy: 0.9901\n",
            "Epoch 5/10\n",
            "800/800 [==============================] - 303s 379ms/step - loss: 0.1058 - accuracy: 0.9684 - val_loss: 0.0367 - val_accuracy: 0.9901\n",
            "Epoch 6/10\n",
            "800/800 [==============================] - 301s 376ms/step - loss: 0.0954 - accuracy: 0.9723 - val_loss: 0.0411 - val_accuracy: 0.9877\n",
            "Epoch 7/10\n",
            "800/800 [==============================] - 304s 380ms/step - loss: 0.0934 - accuracy: 0.9724 - val_loss: 0.0362 - val_accuracy: 0.9901\n",
            "Epoch 8/10\n",
            "800/800 [==============================] - 303s 378ms/step - loss: 0.0892 - accuracy: 0.9744 - val_loss: 0.0361 - val_accuracy: 0.9906\n",
            "Epoch 9/10\n",
            "800/800 [==============================] - 302s 377ms/step - loss: 0.0834 - accuracy: 0.9754 - val_loss: 0.0367 - val_accuracy: 0.9894\n",
            "Epoch 10/10\n",
            "800/800 [==============================] - 296s 369ms/step - loss: 0.0802 - accuracy: 0.9770 - val_loss: 0.0359 - val_accuracy: 0.9905\n"
          ]
        }
      ]
    },
    {
      "cell_type": "code",
      "source": [
        "plt.figure(1)\n",
        "plt.plot(history.history['loss'])\n",
        "plt.plot(history.history['val_loss'])\n",
        "plt.legend(['training', 'validation'])\n",
        "plt.title('Loss')\n",
        "plt.xlabel('epoch')\n",
        "plt.show()"
      ],
      "metadata": {
        "colab": {
          "base_uri": "https://localhost:8080/",
          "height": 295
        },
        "id": "Ia1gsLTRvyXI",
        "outputId": "f1c68e72-9516-4c1a-d9de-0468d088fbe6"
      },
      "execution_count": 43,
      "outputs": [
        {
          "output_type": "display_data",
          "data": {
            "text/plain": [
              "<Figure size 432x288 with 1 Axes>"
            ],
            "image/png": "[encoded data removed]"
          },
          "metadata": {
            "needs_background": "light"
          }
        }
      ]
    },
    {
      "cell_type": "code",
      "source": [
        "plt.figure(2)\n",
        "plt.plot(history.history['accuracy'])\n",
        "plt.plot(history.history['val_accuracy'])\n",
        "plt.legend(['training', 'validation'])\n",
        "plt.title('Accuracy')\n",
        "plt.xlabel('epoch')\n",
        "plt.show()"
      ],
      "metadata": {
        "colab": {
          "base_uri": "https://localhost:8080/",
          "height": 295
        },
        "id": "rwQeS8CJyKuT",
        "outputId": "b4af0c98-322c-48af-802e-5472ac7f2e8a"
      },
      "execution_count": 44,
      "outputs": [
        {
          "output_type": "display_data",
          "data": {
            "text/plain": [
              "<Figure size 432x288 with 1 Axes>"
            ],
            "image/png": "[encoded data removed]"
          },
          "metadata": {
            "needs_background": "light"
          }
        }
      ]
    },
    {
      "cell_type": "code",
      "source": [
        "score = model.evaluate(x_test, y_test, verbose=0)"
      ],
      "metadata": {
        "id": "9yYvpPS8-3HK"
      },
      "execution_count": 45,
      "outputs": []
    },
    {
      "cell_type": "code",
      "source": [
        "# print(\"Test Score: \",score)\n",
        "score"
      ],
      "metadata": {
        "colab": {
          "base_uri": "https://localhost:8080/"
        },
        "id": "4D-gHMcW_A9T",
        "outputId": "69edcaff-be63-4e4b-e18e-7a8e1610816a"
      },
      "execution_count": 46,
      "outputs": [
        {
          "output_type": "execute_result",
          "data": {
            "text/plain": [
              "[0.023894354701042175, 0.9932000041007996]"
            ]
          },
          "metadata": {},
          "execution_count": 46
        }
      ]
    },
    {
      "cell_type": "code",
      "source": [
        "print(\"Test Score: \",score[0])\n",
        "print(\"Test Accuracy: \",score[1])"
      ],
      "metadata": {
        "colab": {
          "base_uri": "https://localhost:8080/"
        },
        "id": "i6bL9mb4_NDa",
        "outputId": "10df6dc1-1d27-4dc1-8c68-02ee38acf230"
      },
      "execution_count": 47,
      "outputs": [
        {
          "output_type": "stream",
          "name": "stdout",
          "text": [
            "Test Score:  0.023894354701042175\n",
            "Test Accuracy:  0.9932000041007996\n"
          ]
        }
      ]
    },
    {
      "cell_type": "code",
      "source": [
        "import pickle\n",
        "\n",
        "pickle_out = open(\"model_trained.p\", \"wb\")\n",
        "pickle.dump(model, pickle_out)\n",
        "pickle_out.close()"
      ],
      "metadata": {
        "colab": {
          "base_uri": "https://localhost:8080/"
        },
        "id": "fXS4dTWB_URy",
        "outputId": "dd060762-a26c-4069-d8af-8e1efebbd330"
      },
      "execution_count": 48,
      "outputs": [
        {
          "output_type": "stream",
          "name": "stdout",
          "text": [
            "INFO:tensorflow:Assets written to: ram://1a253522-5215-4c29-8547-997822c6933d/assets\n"
          ]
        }
      ]
    },
    {
      "cell_type": "code",
      "source": [
        "import numpy as np\n",
        "import cv2\n",
        "import pickle\n",
        "\n",
        "\n",
        "width = 640\n",
        "height = 480\n",
        "\n",
        "cap = cv2.VideoCapture(1)\n",
        "cap.set(3, width)\n",
        "cap.set(4, height)\n",
        "threshold = 0.5\n",
        "\n",
        "pickle_in = open(\"model_trained.p\", \"rb\")\n",
        "model = pickle.load(pickle_in)\n",
        "\n",
        "while True:\n",
        "    success, imgOriginal = cap.read()\n",
        "    img = np.asarray(imgOriginal)\n",
        "    print(img)\n",
        "    # img = img[:,:,0]\n",
        "    # img = cv2.resize(img, (28, 28))\n",
        "    # cv2.imshow(\"Processed Image\", img)\n",
        "    # img = img.reshape(1,28, 28, 1)\n",
        "    # Predict\n",
        "    classIndex = int(model.predict(img))\n",
        "    # print(classIndex)\n",
        "    predictions = model.predict(img)\n",
        "    # print(predictions)\n",
        "    prob_val = np.amax(predictions)\n",
        "    print(classIndex, prob_val)\n",
        "\n",
        "    if prob_val > threshold:\n",
        "        cv2.putText(imgOriginal,\n",
        "        str(classIndex) +\" \"+str(prob_val),\n",
        "        (50, 50),\n",
        "        cv2.FONT_HERSHEY_COMPLEX, 1, (0, 0, 255), 1)\n",
        "\n",
        "    cv2.imshow(\"Original Image\", imgOriginal)\n",
        "\n",
        "    if cv2.waitKey(1) & 0xFF == ord('q'):\n",
        "        break"
      ],
      "metadata": {
        "colab": {
          "base_uri": "https://localhost:8080/",
          "height": 398
        },
        "id": "39hokXmw_pYp",
        "outputId": "5b3f6fde-0f69-45c9-8126-85ce22f5d901"
      },
      "execution_count": 58,
      "outputs": [
        {
          "output_type": "stream",
          "name": "stdout",
          "text": [
            "None\n"
          ]
        },
        {
          "output_type": "error",
          "ename": "ValueError",
          "evalue": "ignored",
          "traceback": [
            "\u001b[0;31m---------------------------------------------------------------------------\u001b[0m",
            "\u001b[0;31mValueError\u001b[0m                                Traceback (most recent call last)",
            "\u001b[0;32m<ipython-input-58-c9fb87451f24>\u001b[0m in \u001b[0;36m<module>\u001b[0;34m()\u001b[0m\n\u001b[1;32m     24\u001b[0m     \u001b[0;31m# img = img.reshape(1,28, 28, 1)\u001b[0m\u001b[0;34m\u001b[0m\u001b[0;34m\u001b[0m\u001b[0;34m\u001b[0m\u001b[0m\n\u001b[1;32m     25\u001b[0m     \u001b[0;31m# Predict\u001b[0m\u001b[0;34m\u001b[0m\u001b[0;34m\u001b[0m\u001b[0;34m\u001b[0m\u001b[0m\n\u001b[0;32m---> 26\u001b[0;31m     \u001b[0mclassIndex\u001b[0m \u001b[0;34m=\u001b[0m \u001b[0mint\u001b[0m\u001b[0;34m(\u001b[0m\u001b[0mmodel\u001b[0m\u001b[0;34m.\u001b[0m\u001b[0mpredict\u001b[0m\u001b[0;34m(\u001b[0m\u001b[0mimg\u001b[0m\u001b[0;34m)\u001b[0m\u001b[0;34m)\u001b[0m\u001b[0;34m\u001b[0m\u001b[0;34m\u001b[0m\u001b[0m\n\u001b[0m\u001b[1;32m     27\u001b[0m     \u001b[0;31m# print(classIndex)\u001b[0m\u001b[0;34m\u001b[0m\u001b[0;34m\u001b[0m\u001b[0;34m\u001b[0m\u001b[0m\n\u001b[1;32m     28\u001b[0m     \u001b[0mpredictions\u001b[0m \u001b[0;34m=\u001b[0m \u001b[0mmodel\u001b[0m\u001b[0;34m.\u001b[0m\u001b[0mpredict\u001b[0m\u001b[0;34m(\u001b[0m\u001b[0mimg\u001b[0m\u001b[0;34m)\u001b[0m\u001b[0;34m\u001b[0m\u001b[0;34m\u001b[0m\u001b[0m\n",
            "\u001b[0;32m/usr/local/lib/python3.7/dist-packages/keras/utils/traceback_utils.py\u001b[0m in \u001b[0;36merror_handler\u001b[0;34m(*args, **kwargs)\u001b[0m\n\u001b[1;32m     65\u001b[0m     \u001b[0;32mexcept\u001b[0m \u001b[0mException\u001b[0m \u001b[0;32mas\u001b[0m \u001b[0me\u001b[0m\u001b[0;34m:\u001b[0m  \u001b[0;31m# pylint: disable=broad-except\u001b[0m\u001b[0;34m\u001b[0m\u001b[0;34m\u001b[0m\u001b[0m\n\u001b[1;32m     66\u001b[0m       \u001b[0mfiltered_tb\u001b[0m \u001b[0;34m=\u001b[0m \u001b[0m_process_traceback_frames\u001b[0m\u001b[0;34m(\u001b[0m\u001b[0me\u001b[0m\u001b[0;34m.\u001b[0m\u001b[0m__traceback__\u001b[0m\u001b[0;34m)\u001b[0m\u001b[0;34m\u001b[0m\u001b[0;34m\u001b[0m\u001b[0m\n\u001b[0;32m---> 67\u001b[0;31m       \u001b[0;32mraise\u001b[0m \u001b[0me\u001b[0m\u001b[0;34m.\u001b[0m\u001b[0mwith_traceback\u001b[0m\u001b[0;34m(\u001b[0m\u001b[0mfiltered_tb\u001b[0m\u001b[0;34m)\u001b[0m \u001b[0;32mfrom\u001b[0m \u001b[0;32mNone\u001b[0m\u001b[0;34m\u001b[0m\u001b[0;34m\u001b[0m\u001b[0m\n\u001b[0m\u001b[1;32m     68\u001b[0m     \u001b[0;32mfinally\u001b[0m\u001b[0;34m:\u001b[0m\u001b[0;34m\u001b[0m\u001b[0;34m\u001b[0m\u001b[0m\n\u001b[1;32m     69\u001b[0m       \u001b[0;32mdel\u001b[0m \u001b[0mfiltered_tb\u001b[0m\u001b[0;34m\u001b[0m\u001b[0;34m\u001b[0m\u001b[0m\n",
            "\u001b[0;32m/usr/local/lib/python3.7/dist-packages/tensorflow/python/framework/constant_op.py\u001b[0m in \u001b[0;36mconvert_to_eager_tensor\u001b[0;34m(value, ctx, dtype)\u001b[0m\n\u001b[1;32m    100\u001b[0m       \u001b[0mdtype\u001b[0m \u001b[0;34m=\u001b[0m \u001b[0mdtypes\u001b[0m\u001b[0;34m.\u001b[0m\u001b[0mas_dtype\u001b[0m\u001b[0;34m(\u001b[0m\u001b[0mdtype\u001b[0m\u001b[0;34m)\u001b[0m\u001b[0;34m.\u001b[0m\u001b[0mas_datatype_enum\u001b[0m\u001b[0;34m\u001b[0m\u001b[0;34m\u001b[0m\u001b[0m\n\u001b[1;32m    101\u001b[0m   \u001b[0mctx\u001b[0m\u001b[0;34m.\u001b[0m\u001b[0mensure_initialized\u001b[0m\u001b[0;34m(\u001b[0m\u001b[0;34m)\u001b[0m\u001b[0;34m\u001b[0m\u001b[0;34m\u001b[0m\u001b[0m\n\u001b[0;32m--> 102\u001b[0;31m   \u001b[0;32mreturn\u001b[0m \u001b[0mops\u001b[0m\u001b[0;34m.\u001b[0m\u001b[0mEagerTensor\u001b[0m\u001b[0;34m(\u001b[0m\u001b[0mvalue\u001b[0m\u001b[0;34m,\u001b[0m \u001b[0mctx\u001b[0m\u001b[0;34m.\u001b[0m\u001b[0mdevice_name\u001b[0m\u001b[0;34m,\u001b[0m \u001b[0mdtype\u001b[0m\u001b[0;34m)\u001b[0m\u001b[0;34m\u001b[0m\u001b[0;34m\u001b[0m\u001b[0m\n\u001b[0m\u001b[1;32m    103\u001b[0m \u001b[0;34m\u001b[0m\u001b[0m\n\u001b[1;32m    104\u001b[0m \u001b[0;34m\u001b[0m\u001b[0m\n",
            "\u001b[0;31mValueError\u001b[0m: Failed to convert a NumPy array to a Tensor (Unsupported object type NoneType)."
          ]
        }
      ]
    }
  ]
}